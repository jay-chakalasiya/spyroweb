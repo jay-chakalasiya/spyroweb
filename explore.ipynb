{
 "cells": [
  {
   "cell_type": "markdown",
   "metadata": {},
   "source": [
    "# Oil and Gas Visualization/Dashboard"
   ]
  },
  {
   "cell_type": "markdown",
   "metadata": {},
   "source": [
    "### Import required libraries"
   ]
  },
  {
   "cell_type": "code",
   "execution_count": 3,
   "metadata": {
    "ExecuteTime": {
     "end_time": "2020-10-08T23:58:24.248780Z",
     "start_time": "2020-10-08T23:58:19.598676Z"
    },
    "inputHidden": false,
    "outputHidden": false
   },
   "outputs": [],
   "source": [
    "import numpy as np\n",
    "import pandas as pd\n",
    "import plotly as py\n",
    "import plotly.offline as pyo\n",
    "import cufflinks as cf"
   ]
  },
  {
   "cell_type": "markdown",
   "metadata": {},
   "source": [
    "### Import New York State dataset"
   ]
  },
  {
   "cell_type": "code",
   "execution_count": 4,
   "metadata": {
    "ExecuteTime": {
     "end_time": "2020-10-08T23:58:25.788660Z",
     "start_time": "2020-10-08T23:58:24.803215Z"
    },
    "inputHidden": false,
    "outputHidden": false
   },
   "outputs": [
    {
     "data": {
      "text/plain": [
       "(41716, 52)"
      ]
     },
     "execution_count": 4,
     "metadata": {},
     "output_type": "execute_result"
    }
   ],
   "source": [
    "df = pd.read_csv('data/wellspublic.csv', low_memory=False)\n",
    "df.shape"
   ]
  },
  {
   "cell_type": "code",
   "execution_count": 5,
   "metadata": {
    "ExecuteTime": {
     "end_time": "2020-10-08T23:58:26.700930Z",
     "start_time": "2020-10-08T23:58:26.692948Z"
    },
    "inputHidden": false,
    "outputHidden": false
   },
   "outputs": [
    {
     "data": {
      "text/plain": [
       "Index(['API_WellNo', 'Cnty', 'Hole', 'SideTrck', 'Completion', 'Well_Name',\n",
       "       'Company_name', 'Operator_number', 'Well_Type', 'Map_Symbol',\n",
       "       'Well_Status', 'Date_Status', 'Date_Permit_Application',\n",
       "       'Permit_Issued', 'Date_Spudded', 'Date_Total_Depth',\n",
       "       'Date_Well_Completed', 'Date_well_plugged', 'Date_well_confidential',\n",
       "       'confid', 'town', 'quad', 'quadsec', 'Producing_name',\n",
       "       'Producing_formation', 'Financial_security', 'Slant', 'County',\n",
       "       'Region', 'State_lease', 'Proposed_depth', 'Surface_location',\n",
       "       'Surface_Longitude', 'Surface_latitude', 'Bottom_hole_location',\n",
       "       'Bottom_hole_longitude', 'Bottom_hole_latitude', 'True_vertical_depth',\n",
       "       'Measured_depth', 'Kickoff', 'DrilledDepth', 'Elevation',\n",
       "       'Original_well_type', 'Permit_Fee', 'Objective_formation', 'Depth_Fee',\n",
       "       'Spacing', 'Spacing_Acres', 'Integration', 'Dt_Hearing', 'Dt_Mod',\n",
       "       'LINK'],\n",
       "      dtype='object')"
      ]
     },
     "execution_count": 5,
     "metadata": {},
     "output_type": "execute_result"
    }
   ],
   "source": [
    "df.columns"
   ]
  },
  {
   "cell_type": "markdown",
   "metadata": {},
   "source": [
    "### Make scattermapbox map"
   ]
  },
  {
   "cell_type": "code",
   "execution_count": 6,
   "metadata": {
    "ExecuteTime": {
     "end_time": "2020-10-08T23:58:28.925954Z",
     "start_time": "2020-10-08T23:58:28.835195Z"
    },
    "inputHidden": false,
    "outputHidden": false
   },
   "outputs": [],
   "source": [
    "types = dict(\n",
    "    BR = 'Brine',\n",
    "    Confidential = 'Confidential',\n",
    "    DH = 'Dry Hole',\n",
    "    DS = 'Disposal',\n",
    "    DW = 'Dry Wildcat',\n",
    "    GD = 'Gas Development',\n",
    "    GE = 'Gas Extension',\n",
    "    GW = 'Gas Wildcat',\n",
    "    IG = 'Gas Injection Well',\n",
    "    IW = 'Enhanced Oil Recovery - Injection',\n",
    "    LP = 'Liquefied Petroleum Gas Storage',\n",
    "    MB = 'Monitoring Brine',\n",
    "    MM = 'Monitoring Miscellaneous',\n",
    "    MS = 'Monitoring Storage',\n",
    "    NL = 'Not Listed',\n",
    "    OB = 'Observation Well',\n",
    "    OD = 'Oil Development',\n",
    "    OE = 'Oil Extension',\n",
    "    OW = 'Oil Wildcat',\n",
    "    SG = 'Stratigraphic',\n",
    "    ST = 'Storage',\n",
    "    TH = 'Geothermal',\n",
    "    UN = 'Unknown',\n",
    ")\n",
    "\n",
    "traces = []\n",
    "for well, df in df.groupby('Well_Type'):\n",
    "    trace = dict(\n",
    "        type = 'scattermapbox',\n",
    "        lon = df['Surface_Longitude'],\n",
    "        lat = df['Surface_latitude'],\n",
    "        text = df['Well_Name'],\n",
    "        name = types[well],\n",
    "        marker = dict(\n",
    "            size = 4,\n",
    "            opacity = 0.6,\n",
    "        )\n",
    "    )\n",
    "    traces.append(trace)\n",
    "\n",
    "# trace = dict(\n",
    "#     type = 'scattermapbox',\n",
    "#     lon = df['Surface_Longitude'],\n",
    "#     lat = df['Surface_latitude'],\n",
    "#     name = df['Well_Name'],\n",
    "# )\n",
    "\n",
    "# traces = [trace]"
   ]
  },
  {
   "cell_type": "code",
   "execution_count": 7,
   "metadata": {
    "ExecuteTime": {
     "end_time": "2020-10-08T23:58:31.570558Z",
     "start_time": "2020-10-08T23:58:31.558562Z"
    },
    "inputHidden": false,
    "outputHidden": false
   },
   "outputs": [],
   "source": [
    "mapbox_access_token = 'pk.eyJ1IjoiamFja2x1byIsImEiOiJjaXhzYTB0bHcwOHNoMnFtOWZ3YWdreDB3In0.pjROwb9_CEuyKPE-x0lRUw'\n",
    "\n",
    "layout = dict(\n",
    "\n",
    "    title = \"New York Oil and Gas map\",\n",
    "\n",
    "    # GENERAL LAYOUT\n",
    "    width = 1280,\n",
    "    height = 720,\n",
    "    autosize = True,\n",
    "    font = dict(\n",
    "        family = \"Overpass\",\n",
    "        size = 12,\n",
    "        color = '#CCCCCC',\n",
    "    ),\n",
    "    margin = dict(\n",
    "        t = 80,\n",
    "        l = 40,\n",
    "        b = 40,\n",
    "        r = 120,\n",
    "        pad = 0, \n",
    "    ),\n",
    "\n",
    "    # OPTIONAL\n",
    "    hovermode = \"closest\",\n",
    "    \n",
    "    # COLOR THEME\n",
    "    plot_bgcolor = \"#191A1A\",\n",
    "    paper_bgcolor = \"#020202\",\n",
    "    \n",
    "    # LEGEND\n",
    "    legend = dict(\n",
    "        x = 1.02,\n",
    "        y = 1,\n",
    "        font = dict(size = 10),\n",
    "    ),\n",
    "\n",
    "    # MAPBOX\n",
    "    mapbox = dict(\n",
    "        accesstoken = mapbox_access_token,\n",
    "        style = \"dark\",\n",
    "        center = dict(\n",
    "            lon = -76.40,\n",
    "            lat = 42.70,\n",
    "        ),\n",
    "        zoom = 5.5,\n",
    "    ),\n",
    "\n",
    ")"
   ]
  },
  {
   "cell_type": "code",
   "execution_count": 8,
   "metadata": {
    "ExecuteTime": {
     "end_time": "2020-10-08T23:58:32.506839Z",
     "start_time": "2020-10-08T23:58:32.302385Z"
    },
    "inputHidden": false,
    "outputHidden": false
   },
   "outputs": [
    {
     "ename": "AttributeError",
     "evalue": "module 'plotly' has no attribute 'plot'",
     "output_type": "error",
     "traceback": [
      "\u001b[1;31m---------------------------------------------------------------------------\u001b[0m",
      "\u001b[1;31mAttributeError\u001b[0m                            Traceback (most recent call last)",
      "\u001b[1;32m<ipython-input-8-e2ffdf35988c>\u001b[0m in \u001b[0;36m<module>\u001b[1;34m\u001b[0m\n\u001b[0;32m      1\u001b[0m \u001b[0mfigure\u001b[0m \u001b[1;33m=\u001b[0m \u001b[0mdict\u001b[0m\u001b[1;33m(\u001b[0m\u001b[0mdata\u001b[0m\u001b[1;33m=\u001b[0m\u001b[0mtraces\u001b[0m\u001b[1;33m,\u001b[0m \u001b[0mlayout\u001b[0m\u001b[1;33m=\u001b[0m\u001b[0mlayout\u001b[0m\u001b[1;33m)\u001b[0m\u001b[1;33m\u001b[0m\u001b[1;33m\u001b[0m\u001b[0m\n\u001b[1;32m----> 2\u001b[1;33m \u001b[0mpy\u001b[0m\u001b[1;33m.\u001b[0m\u001b[0mplot\u001b[0m\u001b[1;33m(\u001b[0m\u001b[0mfigure\u001b[0m\u001b[1;33m,\u001b[0m \u001b[0mfilename\u001b[0m\u001b[1;33m=\u001b[0m\u001b[1;34m'Oil map'\u001b[0m\u001b[1;33m)\u001b[0m\u001b[1;33m\u001b[0m\u001b[1;33m\u001b[0m\u001b[0m\n\u001b[0m",
      "\u001b[1;31mAttributeError\u001b[0m: module 'plotly' has no attribute 'plot'"
     ]
    }
   ],
   "source": [
    "figure = dict(data=traces, layout=layout)\n",
    "py.plot(figure, filename='Oil map')"
   ]
  },
  {
   "cell_type": "code",
   "execution_count": 47,
   "metadata": {
    "ExecuteTime": {
     "end_time": "2020-10-09T00:11:19.182567Z",
     "start_time": "2020-10-09T00:11:19.168572Z"
    }
   },
   "outputs": [
    {
     "data": {
      "text/html": [
       "<div>\n",
       "<style scoped>\n",
       "    .dataframe tbody tr th:only-of-type {\n",
       "        vertical-align: middle;\n",
       "    }\n",
       "\n",
       "    .dataframe tbody tr th {\n",
       "        vertical-align: top;\n",
       "    }\n",
       "\n",
       "    .dataframe thead th {\n",
       "        text-align: right;\n",
       "    }\n",
       "</style>\n",
       "<table border=\"1\" class=\"dataframe\">\n",
       "  <thead>\n",
       "    <tr style=\"text-align: right;\">\n",
       "      <th></th>\n",
       "      <th>Date</th>\n",
       "      <th>SPO2Values</th>\n",
       "    </tr>\n",
       "  </thead>\n",
       "  <tbody>\n",
       "    <tr>\n",
       "      <th>0</th>\n",
       "      <td>2019-01-01</td>\n",
       "      <td>88.003045</td>\n",
       "    </tr>\n",
       "    <tr>\n",
       "      <th>1</th>\n",
       "      <td>2019-01-02</td>\n",
       "      <td>88.360180</td>\n",
       "    </tr>\n",
       "    <tr>\n",
       "      <th>2</th>\n",
       "      <td>2019-01-03</td>\n",
       "      <td>85.780407</td>\n",
       "    </tr>\n",
       "    <tr>\n",
       "      <th>3</th>\n",
       "      <td>2019-01-04</td>\n",
       "      <td>86.116537</td>\n",
       "    </tr>\n",
       "    <tr>\n",
       "      <th>4</th>\n",
       "      <td>2019-01-05</td>\n",
       "      <td>87.400621</td>\n",
       "    </tr>\n",
       "  </tbody>\n",
       "</table>\n",
       "</div>"
      ],
      "text/plain": [
       "         Date  SPO2Values\n",
       "0  2019-01-01   88.003045\n",
       "1  2019-01-02   88.360180\n",
       "2  2019-01-03   85.780407\n",
       "3  2019-01-04   86.116537\n",
       "4  2019-01-05   87.400621"
      ]
     },
     "execution_count": 47,
     "metadata": {},
     "output_type": "execute_result"
    }
   ],
   "source": [
    "import os\n",
    "import pandas as pd\n",
    "\n",
    "spo2 = pd.read_csv('data/data_spo2.csv')\n",
    "spo2.head()"
   ]
  },
  {
   "cell_type": "code",
   "execution_count": 49,
   "metadata": {
    "ExecuteTime": {
     "end_time": "2020-10-09T00:11:31.108155Z",
     "start_time": "2020-10-09T00:11:31.100160Z"
    }
   },
   "outputs": [],
   "source": [
    "spo2.index = pd.to_datetime(spo2['Date'])\n",
    "#spo2.groupby(pd.Grouper(freq='M'))"
   ]
  },
  {
   "cell_type": "code",
   "execution_count": 50,
   "metadata": {
    "ExecuteTime": {
     "end_time": "2020-10-09T00:11:32.155741Z",
     "start_time": "2020-10-09T00:11:32.145767Z"
    }
   },
   "outputs": [],
   "source": [
    "spo2g = spo2.groupby(by = [spo2.index.year, spo2.index.month])"
   ]
  },
  {
   "cell_type": "code",
   "execution_count": null,
   "metadata": {},
   "outputs": [],
   "source": [
    "b.groupby(by=[b.index.year, b.index.month])"
   ]
  },
  {
   "cell_type": "code",
   "execution_count": 11,
   "metadata": {
    "ExecuteTime": {
     "end_time": "2020-10-08T23:59:03.764693Z",
     "start_time": "2020-10-08T23:59:03.757709Z"
    }
   },
   "outputs": [
    {
     "data": {
      "text/plain": [
       "['dash-logo copy.png',\n",
       " 'data_fev1.csv',\n",
       " 'data_spo2.csv',\n",
       " 'OilandGasMetadata.html',\n",
       " 'Oil_and_Gas_Annual_Production__1985_-_2000.csv',\n",
       " 'Oil_and_Gas_Annual_Production__Beginning_2001.csv',\n",
       " 'points.pkl',\n",
       " 'wellspublic.csv']"
      ]
     },
     "execution_count": 11,
     "metadata": {},
     "output_type": "execute_result"
    }
   ],
   "source": [
    "os.listdir('data')"
   ]
  },
  {
   "cell_type": "code",
   "execution_count": null,
   "metadata": {},
   "outputs": [],
   "source": [
    ".sum()\n",
    "       .reset_index()\n",
    "       .sort_values('Date')"
   ]
  },
  {
   "cell_type": "code",
   "execution_count": 51,
   "metadata": {
    "ExecuteTime": {
     "end_time": "2020-10-09T00:11:35.148329Z",
     "start_time": "2020-10-09T00:11:35.129409Z"
    }
   },
   "outputs": [
    {
     "data": {
      "text/html": [
       "<div>\n",
       "<style scoped>\n",
       "    .dataframe tbody tr th:only-of-type {\n",
       "        vertical-align: middle;\n",
       "    }\n",
       "\n",
       "    .dataframe tbody tr th {\n",
       "        vertical-align: top;\n",
       "    }\n",
       "\n",
       "    .dataframe thead th {\n",
       "        text-align: right;\n",
       "    }\n",
       "</style>\n",
       "<table border=\"1\" class=\"dataframe\">\n",
       "  <thead>\n",
       "    <tr style=\"text-align: right;\">\n",
       "      <th></th>\n",
       "      <th></th>\n",
       "      <th>SPO2Values</th>\n",
       "    </tr>\n",
       "    <tr>\n",
       "      <th>Date</th>\n",
       "      <th>Date</th>\n",
       "      <th></th>\n",
       "    </tr>\n",
       "  </thead>\n",
       "  <tbody>\n",
       "    <tr>\n",
       "      <th rowspan=\"12\" valign=\"top\">2019</th>\n",
       "      <th>1</th>\n",
       "      <td>87.237432</td>\n",
       "    </tr>\n",
       "    <tr>\n",
       "      <th>2</th>\n",
       "      <td>87.719323</td>\n",
       "    </tr>\n",
       "    <tr>\n",
       "      <th>3</th>\n",
       "      <td>87.890801</td>\n",
       "    </tr>\n",
       "    <tr>\n",
       "      <th>4</th>\n",
       "      <td>88.125869</td>\n",
       "    </tr>\n",
       "    <tr>\n",
       "      <th>5</th>\n",
       "      <td>87.781507</td>\n",
       "    </tr>\n",
       "    <tr>\n",
       "      <th>6</th>\n",
       "      <td>87.828938</td>\n",
       "    </tr>\n",
       "    <tr>\n",
       "      <th>7</th>\n",
       "      <td>88.039412</td>\n",
       "    </tr>\n",
       "    <tr>\n",
       "      <th>8</th>\n",
       "      <td>88.351156</td>\n",
       "    </tr>\n",
       "    <tr>\n",
       "      <th>9</th>\n",
       "      <td>89.025581</td>\n",
       "    </tr>\n",
       "    <tr>\n",
       "      <th>10</th>\n",
       "      <td>89.749489</td>\n",
       "    </tr>\n",
       "    <tr>\n",
       "      <th>11</th>\n",
       "      <td>89.658903</td>\n",
       "    </tr>\n",
       "    <tr>\n",
       "      <th>12</th>\n",
       "      <td>89.558721</td>\n",
       "    </tr>\n",
       "    <tr>\n",
       "      <th rowspan=\"10\" valign=\"top\">2020</th>\n",
       "      <th>1</th>\n",
       "      <td>89.654507</td>\n",
       "    </tr>\n",
       "    <tr>\n",
       "      <th>2</th>\n",
       "      <td>89.781402</td>\n",
       "    </tr>\n",
       "    <tr>\n",
       "      <th>3</th>\n",
       "      <td>90.062222</td>\n",
       "    </tr>\n",
       "    <tr>\n",
       "      <th>4</th>\n",
       "      <td>90.659874</td>\n",
       "    </tr>\n",
       "    <tr>\n",
       "      <th>5</th>\n",
       "      <td>91.267912</td>\n",
       "    </tr>\n",
       "    <tr>\n",
       "      <th>6</th>\n",
       "      <td>91.388422</td>\n",
       "    </tr>\n",
       "    <tr>\n",
       "      <th>7</th>\n",
       "      <td>92.007786</td>\n",
       "    </tr>\n",
       "    <tr>\n",
       "      <th>8</th>\n",
       "      <td>91.792918</td>\n",
       "    </tr>\n",
       "    <tr>\n",
       "      <th>9</th>\n",
       "      <td>91.644106</td>\n",
       "    </tr>\n",
       "    <tr>\n",
       "      <th>10</th>\n",
       "      <td>90.562275</td>\n",
       "    </tr>\n",
       "  </tbody>\n",
       "</table>\n",
       "</div>"
      ],
      "text/plain": [
       "           SPO2Values\n",
       "Date Date            \n",
       "2019 1      87.237432\n",
       "     2      87.719323\n",
       "     3      87.890801\n",
       "     4      88.125869\n",
       "     5      87.781507\n",
       "     6      87.828938\n",
       "     7      88.039412\n",
       "     8      88.351156\n",
       "     9      89.025581\n",
       "     10     89.749489\n",
       "     11     89.658903\n",
       "     12     89.558721\n",
       "2020 1      89.654507\n",
       "     2      89.781402\n",
       "     3      90.062222\n",
       "     4      90.659874\n",
       "     5      91.267912\n",
       "     6      91.388422\n",
       "     7      92.007786\n",
       "     8      91.792918\n",
       "     9      91.644106\n",
       "     10     90.562275"
      ]
     },
     "execution_count": 51,
     "metadata": {},
     "output_type": "execute_result"
    }
   ],
   "source": [
    "spo2g.mean()\n"
   ]
  },
  {
   "cell_type": "code",
   "execution_count": 39,
   "metadata": {
    "ExecuteTime": {
     "end_time": "2020-10-09T00:07:25.553200Z",
     "start_time": "2020-10-09T00:07:25.536247Z"
    }
   },
   "outputs": [
    {
     "data": {
      "text/plain": [
       "dict_keys([(1, 2019), (1, 2020), (2, 2019), (2, 2020), (3, 2019), (3, 2020), (4, 2019), (4, 2020), (5, 2019), (5, 2020), (6, 2019), (6, 2020), (7, 2019), (7, 2020), (8, 2019), (8, 2020), (9, 2019), (9, 2020), (10, 2019), (10, 2020), (11, 2019), (12, 2019)])"
      ]
     },
     "execution_count": 39,
     "metadata": {},
     "output_type": "execute_result"
    }
   ],
   "source": [
    "dict(list(spo2g)).keys()"
   ]
  },
  {
   "cell_type": "code",
   "execution_count": null,
   "metadata": {},
   "outputs": [],
   "source": []
  }
 ],
 "metadata": {
  "kernel_info": {
   "name": "python3"
  },
  "kernelspec": {
   "display_name": "Python 3",
   "language": "python",
   "name": "python3"
  },
  "language_info": {
   "codemirror_mode": {
    "name": "ipython",
    "version": 3
   },
   "file_extension": ".py",
   "mimetype": "text/x-python",
   "name": "python",
   "nbconvert_exporter": "python",
   "pygments_lexer": "ipython3",
   "version": "3.6.8"
  },
  "toc": {
   "base_numbering": 1,
   "nav_menu": {},
   "number_sections": true,
   "sideBar": true,
   "skip_h1_title": false,
   "title_cell": "Table of Contents",
   "title_sidebar": "Contents",
   "toc_cell": false,
   "toc_position": {},
   "toc_section_display": true,
   "toc_window_display": false
  },
  "varInspector": {
   "cols": {
    "lenName": 16,
    "lenType": 16,
    "lenVar": 40
   },
   "kernels_config": {
    "python": {
     "delete_cmd_postfix": "",
     "delete_cmd_prefix": "del ",
     "library": "var_list.py",
     "varRefreshCmd": "print(var_dic_list())"
    },
    "r": {
     "delete_cmd_postfix": ") ",
     "delete_cmd_prefix": "rm(",
     "library": "var_list.r",
     "varRefreshCmd": "cat(var_dic_list()) "
    }
   },
   "types_to_exclude": [
    "module",
    "function",
    "builtin_function_or_method",
    "instance",
    "_Feature"
   ],
   "window_display": false
  }
 },
 "nbformat": 4,
 "nbformat_minor": 4
}
